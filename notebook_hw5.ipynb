{
 "cells": [
  {
   "cell_type": "code",
   "execution_count": 4,
   "metadata": {},
   "outputs": [
    {
     "name": "stdout",
     "output_type": "stream",
     "text": [
      "Test ROC-AUC Score: 0.8291771566526304\n",
      "Test set predictions:\n",
      "[0.42 0.64 0.35 ... 0.14 0.02 0.1 ]\n"
     ]
    }
   ],
   "source": [
    "from predictor.preprocessing import DataLoader, DataPreprocessor\n",
    "from predictor.features_creation import EthnicityEncoder, GenderBinaryEncoder, CategoricalEncoder\n",
    "from predictor.prediction import DiabetesModel\n",
    "from sklearn.model_selection import train_test_split\n",
    "\n",
    "# Load the data\n",
    "loader = DataLoader()\n",
    "df = loader.load_data()\n",
    "\n",
    "# Preprocessing: remove/impute missing values \n",
    "preprocessor = DataPreprocessor()\n",
    "df_clean = preprocessor.remove_nan_rows(df)\n",
    "df_clean = preprocessor.fill_nan_values(df_clean)\n",
    "\n",
    "# Features creation\n",
    "ethnicity_encoder = EthnicityEncoder()\n",
    "df_encoded = ethnicity_encoder.transform(df_clean)\n",
    "\n",
    "gender_encoder = GenderBinaryEncoder()\n",
    "df_encoded = gender_encoder.transform(df_encoded)  \n",
    "\n",
    "categorical_encoder = CategoricalEncoder()\n",
    "df_final = categorical_encoder.transform(df_encoded) \n",
    "\n",
    "# Divide between train and test sets\n",
    "X_train, X_test, y_train, y_test = train_test_split(df_final.drop(columns=['diabetes_mellitus']), df_final['diabetes_mellitus'], test_size=0.3, random_state=42)\n",
    "\n",
    "# Train the Random Forest Classifier model\n",
    "features = list(X_train.columns)  \n",
    "target = 'diabetes_mellitus'\n",
    "model = DiabetesModel(features=features, target=target)\n",
    "model.train(X_train, y_train)\n",
    "\n",
    "# Print the predicted probabilities of having diabetes mellitus \n",
    "# and compute the ROC_AUC score \n",
    "y_pred = model.predict(X_test)\n",
    "y_pred_proba = model.predict_proba(X_test)\n",
    "roc_auc = model.evaluate(X_test, y_test)\n",
    "print(f\"Test ROC-AUC Score: {roc_auc}\")\n",
    "print(f\"Test set predictions:\")\n",
    "print(y_pred_proba)  "
   ]
  }
 ],
 "metadata": {
  "kernelspec": {
   "display_name": "hw5",
   "language": "python",
   "name": "python3"
  },
  "language_info": {
   "codemirror_mode": {
    "name": "ipython",
    "version": 3
   },
   "file_extension": ".py",
   "mimetype": "text/x-python",
   "name": "python",
   "nbconvert_exporter": "python",
   "pygments_lexer": "ipython3",
   "version": "3.12.7"
  }
 },
 "nbformat": 4,
 "nbformat_minor": 2
}
