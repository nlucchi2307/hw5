{
 "cells": [
  {
   "cell_type": "code",
   "execution_count": null,
   "metadata": {},
   "outputs": [],
   "source": [
    "# test_patient.py\n",
    "import pytest\n",
    "from hw5 import Patient\n",
    "\n",
    "def test_has_covid_with_positive_test():\n",
    "    # Create a Patient instance with a positive COVID test result\n",
    "    patient = Patient(\"John Doe\", [\"fever\", \"cough\"])\n",
    "    patient.add_test(\"covid\", True)\n",
    "    assert patient.has_covid() == 0.99, \"Expected probability to be 0.99 for a positive test\"\n",
    "\n",
    "def test_has_covid_with_negative_test():\n",
    "    # Create a Patient instance with a negative COVID test result\n",
    "    patient = Patient(\"John Doe\", [\"fever\", \"cough\"])\n",
    "    patient.add_test(\"covid\", False)\n",
    "    assert patient.has_covid() == 0.01, \"Expected probability to be 0.01 for a negative test\"\n",
    "\n",
    "def test_has_covid_based_on_symptoms():\n",
    "    # Create a Patient instance without a COVID test but with COVID-related symptoms\n",
    "    patient = Patient(\"Jane Doe\", [\"fever\", \"cough\", \"anosmia\"])\n",
    "    assert patient.has_covid() == 0.35, \"Expected probability based on symptoms to be 0.35\"\n",
    "\n",
    "def test_has_covid_no_symptoms():\n",
    "    # Create a Patient instance without symptoms or a COVID test\n",
    "    patient = Patient(\"Jake Doe\", [])\n",
    "    assert patient.has_covid() == 0.05, \"Expected base probability to be 0.05 for no symptoms\"\n",
    "\n",
    "def test_has_covid_partial_symptoms():\n",
    "    # Create a Patient instance with only one symptom\n",
    "    patient = Patient(\"Jim Doe\", [\"fever\"])\n",
    "    assert patient.has_covid() == 0.15, \"Expected probability based on one symptom to be 0.15\"\n",
    "\n"
   ]
  }
 ],
 "metadata": {
  "language_info": {
   "name": "python"
  }
 },
 "nbformat": 4,
 "nbformat_minor": 2
}
